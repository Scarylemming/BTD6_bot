{
 "cells": [
  {
   "cell_type": "code",
   "execution_count": 24,
   "metadata": {},
   "outputs": [],
   "source": [
    "import pyautogui\n",
    "import cv2\n",
    "import numpy as np\n",
    "\n",
    "# Create a transparent overlay window\n",
    "cv2.namedWindow(\"Mouse Coordinates\", cv2.WINDOW_NORMAL)\n",
    "cv2.setWindowProperty(\"Mouse Coordinates\", cv2.WND_PROP_TOPMOST, 1)\n",
    "\n",
    "while True:\n",
    "    x, y = pyautogui.position()\n",
    "    img = np.zeros((100, 300, 3), dtype=np.uint8)  # Black background\n",
    "    cv2.putText(img, f\"X: {x}, Y: {y}\", (10, 50), \n",
    "                cv2.FONT_HERSHEY_SIMPLEX, 1, (0, 255, 0), 2)\n",
    "    cv2.imshow(\"Mouse Coordinates\", img)\n",
    "    \n",
    "    if cv2.waitKey(1) & 0xFF == 27:  # Press ESC to exit\n",
    "        break\n",
    "\n",
    "cv2.destroyAllWindows()"
   ]
  },
  {
   "cell_type": "code",
   "execution_count": 3,
   "metadata": {},
   "outputs": [
    {
     "name": "stdout",
     "output_type": "stream",
     "text": [
      "Image dimensions: 1920x1200\n",
      "Region Coordinates: (x=1294, y=83, width=150, height=38)\n"
     ]
    }
   ],
   "source": [
    "import cv2\n",
    "import numpy as np\n",
    "import os\n",
    "import glob\n",
    "\n",
    "# Initialize variables\n",
    "drawing = False\n",
    "ix, iy = -1, -1\n",
    "fx, fy = -1, -1\n",
    "\n",
    "# Mouse callback function\n",
    "def draw_rectangle(event, x, y, flags, param):\n",
    "    global ix, iy, fx, fy, drawing\n",
    "\n",
    "    if event == cv2.EVENT_LBUTTONDOWN:\n",
    "        drawing = True\n",
    "        ix, iy = x, y\n",
    "\n",
    "    elif event == cv2.EVENT_MOUSEMOVE:\n",
    "        if drawing:\n",
    "            fx, fy = x, y\n",
    "\n",
    "    elif event == cv2.EVENT_LBUTTONUP:\n",
    "        drawing = False\n",
    "        fx, fy = x, y\n",
    "        print(f\"Region Coordinates: (x={min(ix, fx)}, y={min(iy, fy)}, width={abs(fx-ix)}, height={abs(fy-iy)})\")\n",
    "        cv2.destroyAllWindows()\n",
    "\n",
    "def get_latest_screenshot(folder_path):\n",
    "    # List all PNG files in the folder\n",
    "    screenshot_files = glob.glob(os.path.join(folder_path, \"*.png\"))\n",
    "    \n",
    "    # Sort by modification time (newest first)\n",
    "    screenshot_files.sort(key=os.path.getmtime, reverse=True)\n",
    "    \n",
    "    if not screenshot_files:\n",
    "        raise FileNotFoundError(\"No screenshots found in the folder!\")\n",
    "    \n",
    "    return screenshot_files[0]  # Return the newest screenshot\n",
    "\n",
    "# Example usage (using raw string for Windows paths)\n",
    "screenshot_folder = r\"Images/screenshots\"  # <- FIXED (backslashes + raw string)\n",
    "latest_screenshot_path = get_latest_screenshot(screenshot_folder)\n",
    "\n",
    "# Load the image properly (using OpenCV)\n",
    "screenshot = cv2.imread(latest_screenshot_path)\n",
    "\n",
    "if screenshot is None:\n",
    "    raise FileNotFoundError(\"Failed to load the screenshot!\")\n",
    "\n",
    "# Get image dimensions\n",
    "height, width = screenshot.shape[:2]\n",
    "print(f\"Image dimensions: {width}x{height}\")\n",
    "\n",
    "# Create a window and bind the mouse callback\n",
    "cv2.namedWindow(\"Select Region\", cv2.WINDOW_NORMAL)\n",
    "cv2.resizeWindow(\"Select Region\", width, height)\n",
    "cv2.setMouseCallback(\"Select Region\", draw_rectangle)\n",
    "\n",
    "while True:\n",
    "    img = screenshot.copy()\n",
    "    if ix != -1 and iy != -1 and fx != -1 and fy != -1:\n",
    "        cv2.rectangle(img, (ix, iy), (fx, fy), (0, 255, 0), 2)\n",
    "    cv2.imshow(\"Select Region\", img)\n",
    "    \n",
    "    if cv2.waitKey(1) & 0xFF == 27:  # Press ESC to exit\n",
    "        break\n",
    "\n",
    "cv2.destroyAllWindows()"
   ]
  },
  {
   "cell_type": "code",
   "execution_count": 4,
   "metadata": {},
   "outputs": [
    {
     "name": "stderr",
     "output_type": "stream",
     "text": [
      "2025-06-17 18:05:22,632 - INFO - BTD6 is already running\n",
      "2025-06-17 18:05:22,636 - INFO - Focused BTD6 window.\n",
      "2025-06-17 18:05:23,161 - INFO - Looking for Collect common tower...\n"
     ]
    },
    {
     "name": "stdout",
     "output_type": "stream",
     "text": [
      "Max val is  0.12944704294204712\n",
      "Collection Event found\n",
      "Max val is  0.46805351972579956\n",
      "Max val is  0.46805691719055176\n",
      "Max val is  0.46805351972579956\n",
      "Max val is  0.46805691719055176\n",
      "Max val is  0.46805351972579956\n",
      "Max val is  0.46805691719055176\n",
      "Max val is  0.46805691719055176\n",
      "Max val is  0.46805351972579956\n",
      "Max val is  0.46805351972579956\n",
      "Max val is  0.46805691719055176\n",
      "Max val is  0.46805691719055176\n",
      "Max val is  0.46806028485298157\n",
      "Max val is  0.46805691719055176\n",
      "Max val is  0.46805351972579956\n",
      "Max val is  0.46805012226104736\n",
      "Max val is  0.46805691719055176\n",
      "Max val is  0.46805691719055176\n"
     ]
    },
    {
     "name": "stderr",
     "output_type": "stream",
     "text": [
      "2025-06-17 18:05:32,855 - INFO - Clicked Collect common tower.\n",
      "2025-06-17 18:05:32,856 - INFO - Looking for Collect tier3 tower...\n"
     ]
    },
    {
     "name": "stdout",
     "output_type": "stream",
     "text": [
      "Max val is  0.2558014988899231\n",
      "Max val is  0.25580376386642456\n",
      "Max val is  0.25580263137817383\n",
      "Max val is  0.25580376386642456\n",
      "Max val is  0.2558014988899231\n",
      "Max val is  0.25580376386642456\n",
      "Max val is  0.2558014988899231\n",
      "Max val is  0.2558014988899231\n",
      "Max val is  0.25580376386642456\n",
      "Max val is  0.4364020824432373\n"
     ]
    },
    {
     "name": "stderr",
     "output_type": "stream",
     "text": [
      "2025-06-17 18:05:38,606 - INFO - Clicked Collect tier3 tower.\n",
      "2025-06-17 18:05:40,109 - INFO - Looking for Collect common tower...\n"
     ]
    },
    {
     "name": "stdout",
     "output_type": "stream",
     "text": [
      "Max val is  0.3928545415401459\n",
      "Max val is  0.3928545415401459\n",
      "Max val is  0.3928545415401459\n",
      "Max val is  0.3928545415401459\n",
      "Max val is  0.3928545415401459\n",
      "Max val is  0.3928545415401459\n",
      "Max val is  0.3928545415401459\n",
      "Max val is  0.3928545415401459\n",
      "Max val is  0.3928545415401459\n",
      "Max val is  0.3928545415401459\n",
      "Max val is  0.3928545415401459\n",
      "Max val is  0.3928545415401459\n",
      "Max val is  0.3928545415401459\n",
      "Max val is  0.3928545415401459\n",
      "Max val is  0.3928545415401459\n",
      "Max val is  0.3928545415401459\n",
      "Max val is  0.3928545415401459\n",
      "Max val is  0.3928545415401459\n",
      "Max val is  0.3928545415401459\n",
      "Max val is  0.3928545415401459\n",
      "Max val is  0.3928545415401459\n",
      "Max val is  0.4117644727230072\n",
      "Max val is  0.4117644727230072\n",
      "Max val is  0.4117644727230072\n",
      "Max val is  0.411758154630661\n",
      "Max val is  0.4117644727230072\n",
      "Max val is  0.4117644727230072\n",
      "Max val is  0.4117644727230072\n",
      "Max val is  0.4117644727230072\n",
      "Max val is  0.4117644727230072\n",
      "Max val is  0.4117644727230072\n",
      "Max val is  0.4117644727230072\n",
      "Max val is  0.4117644727230072\n",
      "Max val is  0.4117644727230072\n",
      "Max val is  0.4117644727230072\n",
      "Max val is  0.4117707908153534\n",
      "Max val is  0.4117707908153534\n",
      "Max val is  0.4117707908153534\n",
      "Max val is  0.4117707908153534\n",
      "Max val is  0.4117707908153534\n",
      "Max val is  0.4117771089076996\n",
      "Max val is  0.4117644727230072\n",
      "Max val is  0.4117644727230072\n",
      "Max val is  0.4117644727230072\n",
      "Max val is  0.4117644727230072\n",
      "Max val is  0.4117644727230072\n",
      "Max val is  0.4117644727230072\n",
      "Max val is  0.4117644727230072\n",
      "Max val is  0.4117644727230072\n",
      "Max val is  0.4117644727230072\n",
      "Max val is  0.4117644727230072\n",
      "Max val is  0.4117644727230072\n",
      "Max val is  0.4117644727230072\n",
      "Max val is  0.4117644727230072\n",
      "Max val is  0.4117644727230072\n",
      "Max val is  0.4117644727230072\n",
      "Max val is  0.4117644727230072\n",
      "Max val is  0.4117644727230072\n",
      "Max val is  0.4117644727230072\n",
      "Max val is  0.4117644727230072\n",
      "Max val is  0.39989808201789856\n",
      "Max val is  0.39989808201789856\n",
      "Max val is  0.4121036231517792\n",
      "Max val is  0.4121066927909851\n",
      "Max val is  0.4121066927909851\n",
      "Max val is  0.4121159017086029\n",
      "Max val is  0.41210976243019104\n",
      "Max val is  0.4121036231517792\n",
      "Max val is  0.412112832069397\n",
      "Max val is  0.41210976243019104\n",
      "Max val is  0.41210976243019104\n",
      "Max val is  0.4121036231517792\n",
      "Max val is  0.41210976243019104\n",
      "Max val is  0.41210976243019104\n",
      "Max val is  0.4121036231517792\n",
      "Max val is  0.4121036231517792\n",
      "Max val is  0.41210976243019104\n",
      "Max val is  0.4121036231517792\n",
      "Max val is  0.4121036231517792\n",
      "Max val is  0.41210976243019104\n",
      "Max val is  0.41210976243019104\n",
      "Max val is  0.4121036231517792\n",
      "Max val is  0.41210976243019104\n",
      "Max val is  0.41210976243019104\n",
      "Max val is  0.4121036231517792\n",
      "Max val is  0.41210976243019104\n",
      "Max val is  0.41210976243019104\n",
      "Max val is  0.41210976243019104\n",
      "Max val is  0.411758154630661\n"
     ]
    },
    {
     "name": "stderr",
     "output_type": "stream",
     "text": [
      "2025-06-17 18:06:16,838 - INFO - Clicked Collect common tower.\n",
      "2025-06-17 18:06:16,839 - INFO - Looking for Collect tier3 tower...\n",
      "2025-06-17 18:06:18,318 - INFO - Clicked Collect tier3 tower.\n",
      "2025-06-17 18:06:19,821 - INFO - Looking for Back to collection event...\n"
     ]
    },
    {
     "name": "stdout",
     "output_type": "stream",
     "text": [
      "Max val is  0.35871422290802\n",
      "Max val is  0.35871422290802\n",
      "Max val is  0.35871422290802\n",
      "Max val is  0.35871422290802\n",
      "Max val is  0.3315412998199463\n",
      "Max val is  0.3315412998199463\n"
     ]
    },
    {
     "ename": "KeyboardInterrupt",
     "evalue": "",
     "output_type": "error",
     "traceback": [
      "\u001b[31m---------------------------------------------------------------------------\u001b[39m",
      "\u001b[31mKeyboardInterrupt\u001b[39m                         Traceback (most recent call last)",
      "\u001b[36mCell\u001b[39m\u001b[36m \u001b[39m\u001b[32mIn[4]\u001b[39m\u001b[32m, line 18\u001b[39m\n\u001b[32m     16\u001b[39m     time.sleep(\u001b[32m0.5\u001b[39m)\n\u001b[32m     17\u001b[39m     pyautogui.click(\u001b[32m1000\u001b[39m, \u001b[32m1000\u001b[39m)\n\u001b[32m---> \u001b[39m\u001b[32m18\u001b[39m \u001b[43mbot\u001b[49m\u001b[43m.\u001b[49m\u001b[43mwait_and_click\u001b[49m\u001b[43m(\u001b[49m\u001b[33;43m'\u001b[39;49m\u001b[33;43mimages/collection_event/continue.png\u001b[39;49m\u001b[33;43m'\u001b[39;49m\u001b[43m,\u001b[49m\u001b[43m \u001b[49m\u001b[33;43m'\u001b[39;49m\u001b[33;43mBack to collection event\u001b[39;49m\u001b[33;43m'\u001b[39;49m\u001b[43m)\u001b[49m\n\u001b[32m     19\u001b[39m \u001b[38;5;28;01mif\u001b[39;00m bot.find_image_on_screen(\u001b[33m'\u001b[39m\u001b[33mimages/collection_event/collection_event.png\u001b[39m\u001b[33m'\u001b[39m)[\u001b[32m0\u001b[39m] \u001b[38;5;129;01mis\u001b[39;00m \u001b[38;5;129;01mnot\u001b[39;00m \u001b[38;5;28;01mNone\u001b[39;00m \u001b[38;5;129;01mand\u001b[39;00m bot.find_image_on_screen(\u001b[33m'\u001b[39m\u001b[33mimages/collection_event/collect.png\u001b[39m\u001b[33m'\u001b[39m)[\u001b[32m0\u001b[39m] \u001b[38;5;129;01mis\u001b[39;00m \u001b[38;5;28;01mNone\u001b[39;00m:\n\u001b[32m     20\u001b[39m     pyautogui.click(\u001b[32m84\u001b[39m,\u001b[32m67\u001b[39m)\n",
      "\u001b[36mFile \u001b[39m\u001b[32mc:\\Users\\juraj\\Desktop\\Juraj\\Programmation\\Python\\BTD6 Automation Collection event\\main.py:112\u001b[39m, in \u001b[36mBTD6Bot.wait_and_click\u001b[39m\u001b[34m(self, image_path, description, confidence)\u001b[39m\n\u001b[32m    110\u001b[39m logging.info(\u001b[33mf\u001b[39m\u001b[33m\"\u001b[39m\u001b[33mLooking for \u001b[39m\u001b[38;5;132;01m{\u001b[39;00mdescription\u001b[38;5;132;01m}\u001b[39;00m\u001b[33m...\u001b[39m\u001b[33m\"\u001b[39m)\n\u001b[32m    111\u001b[39m \u001b[38;5;28;01mwhile\u001b[39;00m \u001b[38;5;28mself\u001b[39m.running:\n\u001b[32m--> \u001b[39m\u001b[32m112\u001b[39m     \u001b[38;5;28;01mif\u001b[39;00m \u001b[38;5;28;43mself\u001b[39;49m\u001b[43m.\u001b[49m\u001b[43mclick_image\u001b[49m\u001b[43m(\u001b[49m\u001b[43mimage_path\u001b[49m\u001b[43m,\u001b[49m\u001b[43m \u001b[49m\u001b[43mconfidence\u001b[49m\u001b[43m)\u001b[49m:\n\u001b[32m    113\u001b[39m         logging.info(\u001b[33mf\u001b[39m\u001b[33m\"\u001b[39m\u001b[33mClicked \u001b[39m\u001b[38;5;132;01m{\u001b[39;00mdescription\u001b[38;5;132;01m}\u001b[39;00m\u001b[33m.\u001b[39m\u001b[33m\"\u001b[39m)\n\u001b[32m    114\u001b[39m         \u001b[38;5;66;03m# time.sleep(1)\u001b[39;00m\n",
      "\u001b[36mFile \u001b[39m\u001b[32mc:\\Users\\juraj\\Desktop\\Juraj\\Programmation\\Python\\BTD6 Automation Collection event\\main.py:103\u001b[39m, in \u001b[36mBTD6Bot.click_image\u001b[39m\u001b[34m(self, image_path, confidence)\u001b[39m\n\u001b[32m    101\u001b[39m \u001b[38;5;28;01mdef\u001b[39;00m\u001b[38;5;250m \u001b[39m\u001b[34mclick_image\u001b[39m(\u001b[38;5;28mself\u001b[39m, image_path, confidence=CONFIDENCE_THRESHOLD):\n\u001b[32m    102\u001b[39m \u001b[38;5;250m    \u001b[39m\u001b[33;03m\"\"\"Click on an image if found on screen\"\"\"\u001b[39;00m\n\u001b[32m--> \u001b[39m\u001b[32m103\u001b[39m     location, max_val = \u001b[38;5;28;43mself\u001b[39;49m\u001b[43m.\u001b[49m\u001b[43mfind_image_on_screen\u001b[49m\u001b[43m(\u001b[49m\u001b[43mimage_path\u001b[49m\u001b[43m,\u001b[49m\u001b[43m \u001b[49m\u001b[43mconfidence\u001b[49m\u001b[43m)\u001b[49m\n\u001b[32m    104\u001b[39m     \u001b[38;5;28;01mif\u001b[39;00m location:\n\u001b[32m    105\u001b[39m         pyautogui.click(location)\n",
      "\u001b[36mFile \u001b[39m\u001b[32mc:\\Users\\juraj\\Desktop\\Juraj\\Programmation\\Python\\BTD6 Automation Collection event\\main.py:89\u001b[39m, in \u001b[36mBTD6Bot.find_image_on_screen\u001b[39m\u001b[34m(self, image_path, confidence)\u001b[39m\n\u001b[32m     87\u001b[39m     \u001b[38;5;28;01mreturn\u001b[39;00m \u001b[38;5;28;01mNone\u001b[39;00m, \u001b[38;5;28;01mNone\u001b[39;00m\n\u001b[32m     88\u001b[39m th, tw = template.shape[:\u001b[32m2\u001b[39m]\n\u001b[32m---> \u001b[39m\u001b[32m89\u001b[39m result = \u001b[43mcv2\u001b[49m\u001b[43m.\u001b[49m\u001b[43mmatchTemplate\u001b[49m\u001b[43m(\u001b[49m\u001b[43mscreen_np\u001b[49m\u001b[43m,\u001b[49m\u001b[43m \u001b[49m\u001b[43mtemplate\u001b[49m\u001b[43m,\u001b[49m\u001b[43m \u001b[49m\u001b[43mcv2\u001b[49m\u001b[43m.\u001b[49m\u001b[43mTM_CCOEFF_NORMED\u001b[49m\u001b[43m)\u001b[49m\n\u001b[32m     90\u001b[39m min_val, max_val, min_loc, max_loc = cv2.minMaxLoc(result)\n\u001b[32m     91\u001b[39m \u001b[38;5;28;01mif\u001b[39;00m max_val >= confidence:\n",
      "\u001b[31mKeyboardInterrupt\u001b[39m: "
     ]
    }
   ],
   "source": [
    "from gameplay import Gameplay\n",
    "from main import BTD6Bot\n",
    "import time\n",
    "import pyautogui\n",
    "\n",
    "time.sleep(2)\n",
    "\n",
    "bot = BTD6Bot()\n",
    "bot.launch_game()\n",
    "if bot.find_image_on_screen('images/collection_event/collection_event.png')[0] is not None or True :\n",
    "    print(\"Collection Event found\")\n",
    "    # bot.wait_and_click('images/collection_event/collect.png', 'Click Collection Event')\n",
    "    for i in range(2) :\n",
    "        for tier in [\"common\", \"tier3\"] : \n",
    "            bot.wait_and_click(f'images/collection_event/{tier}.png', f'Collect {tier} tower')\n",
    "            break\n",
    "        time.sleep(0.5)\n",
    "        pyautogui.click(1000, 1000)\n",
    "    bot.wait_and_click('images/collection_event/continue.png', 'Back to collection event')\n",
    "    if bot.find_image_on_screen('images/collection_event/collection_event.png')[0] is not None and bot.find_image_on_screen('images/collection_event/collect.png')[0] is None:\n",
    "        pyautogui.click(84,67)\n",
    "    bot.wait_and_click('images/collection_event/back.png', 'Back to home')\n",
    "\n",
    "\n",
    "\n",
    "\n"
   ]
  },
  {
   "cell_type": "code",
   "execution_count": null,
   "metadata": {},
   "outputs": [
    {
     "name": "stderr",
     "output_type": "stream",
     "text": [
      "c:\\Users\\juraj\\anaconda3\\envs\\btd6_bot\\Lib\\site-packages\\tqdm\\auto.py:21: TqdmWarning: IProgress not found. Please update jupyter and ipywidgets. See https://ipywidgets.readthedocs.io/en/stable/user_install.html\n",
      "  from .autonotebook import tqdm as notebook_tqdm\n"
     ]
    },
    {
     "ename": "KeyboardInterrupt",
     "evalue": "",
     "output_type": "error",
     "traceback": [
      "\u001b[31m---------------------------------------------------------------------------\u001b[39m",
      "\u001b[31mKeyboardInterrupt\u001b[39m                         Traceback (most recent call last)",
      "\u001b[36mCell\u001b[39m\u001b[36m \u001b[39m\u001b[32mIn[1]\u001b[39m\u001b[32m, line 2\u001b[39m\n\u001b[32m      1\u001b[39m \u001b[38;5;28;01mfrom\u001b[39;00m\u001b[38;5;250m \u001b[39m\u001b[34;01mgameplay\u001b[39;00m\u001b[38;5;250m \u001b[39m\u001b[38;5;28;01mimport\u001b[39;00m Gameplay\n\u001b[32m----> \u001b[39m\u001b[32m2\u001b[39m \u001b[38;5;28;01mfrom\u001b[39;00m\u001b[38;5;250m \u001b[39m\u001b[34;01mmain\u001b[39;00m\u001b[38;5;250m \u001b[39m\u001b[38;5;28;01mimport\u001b[39;00m BTD6Bot\n\u001b[32m      3\u001b[39m \u001b[38;5;28;01mimport\u001b[39;00m\u001b[38;5;250m \u001b[39m\u001b[34;01mtime\u001b[39;00m\n\u001b[32m      4\u001b[39m \u001b[38;5;28;01mimport\u001b[39;00m\u001b[38;5;250m \u001b[39m\u001b[34;01mpyautogui\u001b[39;00m\n",
      "\u001b[36mFile \u001b[39m\u001b[32mc:\\Users\\juraj\\Desktop\\Juraj\\Programmation\\Python\\BTD6 Automation Collection event\\main.py:16\u001b[39m\n\u001b[32m     14\u001b[39m \u001b[38;5;28;01mimport\u001b[39;00m\u001b[38;5;250m \u001b[39m\u001b[34;01mpytesseract\u001b[39;00m\n\u001b[32m     15\u001b[39m \u001b[38;5;28;01mimport\u001b[39;00m\u001b[38;5;250m \u001b[39m\u001b[34;01mdifflib\u001b[39;00m\n\u001b[32m---> \u001b[39m\u001b[32m16\u001b[39m \u001b[38;5;28;01mfrom\u001b[39;00m\u001b[38;5;250m \u001b[39m\u001b[34;01msentence_transformers\u001b[39;00m\u001b[38;5;250m \u001b[39m\u001b[38;5;28;01mimport\u001b[39;00m SentenceTransformer, util\n\u001b[32m     18\u001b[39m \u001b[38;5;66;03m# Configure logging\u001b[39;00m\n\u001b[32m     19\u001b[39m logging.basicConfig(\n\u001b[32m     20\u001b[39m     level=logging.INFO,\n\u001b[32m     21\u001b[39m     \u001b[38;5;28mformat\u001b[39m=\u001b[33m'\u001b[39m\u001b[38;5;132;01m%(asctime)s\u001b[39;00m\u001b[33m - \u001b[39m\u001b[38;5;132;01m%(levelname)s\u001b[39;00m\u001b[33m - \u001b[39m\u001b[38;5;132;01m%(message)s\u001b[39;00m\u001b[33m'\u001b[39m,\n\u001b[32m   (...)\u001b[39m\u001b[32m     25\u001b[39m     ]\n\u001b[32m     26\u001b[39m )\n",
      "\u001b[36mFile \u001b[39m\u001b[32mc:\\Users\\juraj\\anaconda3\\envs\\btd6_bot\\Lib\\site-packages\\sentence_transformers\\__init__.py:14\u001b[39m\n\u001b[32m      7\u001b[39m \u001b[38;5;28;01mimport\u001b[39;00m\u001b[38;5;250m \u001b[39m\u001b[34;01mos\u001b[39;00m\n\u001b[32m      9\u001b[39m \u001b[38;5;28;01mfrom\u001b[39;00m\u001b[38;5;250m \u001b[39m\u001b[34;01msentence_transformers\u001b[39;00m\u001b[34;01m.\u001b[39;00m\u001b[34;01mbackend\u001b[39;00m\u001b[38;5;250m \u001b[39m\u001b[38;5;28;01mimport\u001b[39;00m (\n\u001b[32m     10\u001b[39m     export_dynamic_quantized_onnx_model,\n\u001b[32m     11\u001b[39m     export_optimized_onnx_model,\n\u001b[32m     12\u001b[39m     export_static_quantized_openvino_model,\n\u001b[32m     13\u001b[39m )\n\u001b[32m---> \u001b[39m\u001b[32m14\u001b[39m \u001b[38;5;28;01mfrom\u001b[39;00m\u001b[38;5;250m \u001b[39m\u001b[34;01msentence_transformers\u001b[39;00m\u001b[34;01m.\u001b[39;00m\u001b[34;01mcross_encoder\u001b[39;00m\u001b[38;5;250m \u001b[39m\u001b[38;5;28;01mimport\u001b[39;00m (\n\u001b[32m     15\u001b[39m     CrossEncoder,\n\u001b[32m     16\u001b[39m     CrossEncoderModelCardData,\n\u001b[32m     17\u001b[39m     CrossEncoderTrainer,\n\u001b[32m     18\u001b[39m     CrossEncoderTrainingArguments,\n\u001b[32m     19\u001b[39m )\n\u001b[32m     20\u001b[39m \u001b[38;5;28;01mfrom\u001b[39;00m\u001b[38;5;250m \u001b[39m\u001b[34;01msentence_transformers\u001b[39;00m\u001b[34;01m.\u001b[39;00m\u001b[34;01mdatasets\u001b[39;00m\u001b[38;5;250m \u001b[39m\u001b[38;5;28;01mimport\u001b[39;00m ParallelSentencesDataset, SentencesDataset\n\u001b[32m     21\u001b[39m \u001b[38;5;28;01mfrom\u001b[39;00m\u001b[38;5;250m \u001b[39m\u001b[34;01msentence_transformers\u001b[39;00m\u001b[34;01m.\u001b[39;00m\u001b[34;01mLoggingHandler\u001b[39;00m\u001b[38;5;250m \u001b[39m\u001b[38;5;28;01mimport\u001b[39;00m LoggingHandler\n",
      "\u001b[36mFile \u001b[39m\u001b[32mc:\\Users\\juraj\\anaconda3\\envs\\btd6_bot\\Lib\\site-packages\\sentence_transformers\\cross_encoder\\__init__.py:3\u001b[39m\n\u001b[32m      1\u001b[39m \u001b[38;5;28;01mfrom\u001b[39;00m\u001b[38;5;250m \u001b[39m\u001b[34;01m__future__\u001b[39;00m\u001b[38;5;250m \u001b[39m\u001b[38;5;28;01mimport\u001b[39;00m annotations\n\u001b[32m----> \u001b[39m\u001b[32m3\u001b[39m \u001b[38;5;28;01mfrom\u001b[39;00m\u001b[38;5;250m \u001b[39m\u001b[34;01m.\u001b[39;00m\u001b[34;01mCrossEncoder\u001b[39;00m\u001b[38;5;250m \u001b[39m\u001b[38;5;28;01mimport\u001b[39;00m CrossEncoder\n\u001b[32m      4\u001b[39m \u001b[38;5;28;01mfrom\u001b[39;00m\u001b[38;5;250m \u001b[39m\u001b[34;01m.\u001b[39;00m\u001b[34;01mmodel_card\u001b[39;00m\u001b[38;5;250m \u001b[39m\u001b[38;5;28;01mimport\u001b[39;00m CrossEncoderModelCardData\n\u001b[32m      5\u001b[39m \u001b[38;5;28;01mfrom\u001b[39;00m\u001b[38;5;250m \u001b[39m\u001b[34;01m.\u001b[39;00m\u001b[34;01mtrainer\u001b[39;00m\u001b[38;5;250m \u001b[39m\u001b[38;5;28;01mimport\u001b[39;00m CrossEncoderTrainer\n",
      "\u001b[36mFile \u001b[39m\u001b[32mc:\\Users\\juraj\\anaconda3\\envs\\btd6_bot\\Lib\\site-packages\\sentence_transformers\\cross_encoder\\CrossEncoder.py:19\u001b[39m\n\u001b[32m     17\u001b[39m \u001b[38;5;28;01mfrom\u001b[39;00m\u001b[38;5;250m \u001b[39m\u001b[34;01mtorch\u001b[39;00m\u001b[38;5;250m \u001b[39m\u001b[38;5;28;01mimport\u001b[39;00m nn\n\u001b[32m     18\u001b[39m \u001b[38;5;28;01mfrom\u001b[39;00m\u001b[38;5;250m \u001b[39m\u001b[34;01mtqdm\u001b[39;00m\u001b[34;01m.\u001b[39;00m\u001b[34;01mautonotebook\u001b[39;00m\u001b[38;5;250m \u001b[39m\u001b[38;5;28;01mimport\u001b[39;00m trange\n\u001b[32m---> \u001b[39m\u001b[32m19\u001b[39m \u001b[38;5;28;01mfrom\u001b[39;00m\u001b[38;5;250m \u001b[39m\u001b[34;01mtransformers\u001b[39;00m\u001b[38;5;250m \u001b[39m\u001b[38;5;28;01mimport\u001b[39;00m (\n\u001b[32m     20\u001b[39m     AutoConfig,\n\u001b[32m     21\u001b[39m     AutoModelForSequenceClassification,\n\u001b[32m     22\u001b[39m     AutoTokenizer,\n\u001b[32m     23\u001b[39m     PretrainedConfig,\n\u001b[32m     24\u001b[39m     PreTrainedModel,\n\u001b[32m     25\u001b[39m     PreTrainedTokenizer,\n\u001b[32m     26\u001b[39m )\n\u001b[32m     27\u001b[39m \u001b[38;5;28;01mfrom\u001b[39;00m\u001b[38;5;250m \u001b[39m\u001b[34;01mtransformers\u001b[39;00m\u001b[34;01m.\u001b[39;00m\u001b[34;01mutils\u001b[39;00m\u001b[38;5;250m \u001b[39m\u001b[38;5;28;01mimport\u001b[39;00m PushToHubMixin\n\u001b[32m     28\u001b[39m \u001b[38;5;28;01mfrom\u001b[39;00m\u001b[38;5;250m \u001b[39m\u001b[34;01mtyping_extensions\u001b[39;00m\u001b[38;5;250m \u001b[39m\u001b[38;5;28;01mimport\u001b[39;00m deprecated\n",
      "\u001b[36mFile \u001b[39m\u001b[32m<frozen importlib._bootstrap>:1412\u001b[39m, in \u001b[36m_handle_fromlist\u001b[39m\u001b[34m(module, fromlist, import_, recursive)\u001b[39m\n",
      "\u001b[36mFile \u001b[39m\u001b[32mc:\\Users\\juraj\\anaconda3\\envs\\btd6_bot\\Lib\\site-packages\\transformers\\utils\\import_utils.py:2045\u001b[39m, in \u001b[36m_LazyModule.__getattr__\u001b[39m\u001b[34m(self, name)\u001b[39m\n\u001b[32m   2043\u001b[39m \u001b[38;5;28;01melif\u001b[39;00m name \u001b[38;5;129;01min\u001b[39;00m \u001b[38;5;28mself\u001b[39m._class_to_module.keys():\n\u001b[32m   2044\u001b[39m     \u001b[38;5;28;01mtry\u001b[39;00m:\n\u001b[32m-> \u001b[39m\u001b[32m2045\u001b[39m         module = \u001b[38;5;28;43mself\u001b[39;49m\u001b[43m.\u001b[49m\u001b[43m_get_module\u001b[49m\u001b[43m(\u001b[49m\u001b[38;5;28;43mself\u001b[39;49m\u001b[43m.\u001b[49m\u001b[43m_class_to_module\u001b[49m\u001b[43m[\u001b[49m\u001b[43mname\u001b[49m\u001b[43m]\u001b[49m\u001b[43m)\u001b[49m\n\u001b[32m   2046\u001b[39m         value = \u001b[38;5;28mgetattr\u001b[39m(module, name)\n\u001b[32m   2047\u001b[39m     \u001b[38;5;28;01mexcept\u001b[39;00m (\u001b[38;5;167;01mModuleNotFoundError\u001b[39;00m, \u001b[38;5;167;01mRuntimeError\u001b[39;00m) \u001b[38;5;28;01mas\u001b[39;00m e:\n",
      "\u001b[36mFile \u001b[39m\u001b[32mc:\\Users\\juraj\\anaconda3\\envs\\btd6_bot\\Lib\\site-packages\\transformers\\utils\\import_utils.py:2073\u001b[39m, in \u001b[36m_LazyModule._get_module\u001b[39m\u001b[34m(self, module_name)\u001b[39m\n\u001b[32m   2071\u001b[39m \u001b[38;5;28;01mdef\u001b[39;00m\u001b[38;5;250m \u001b[39m\u001b[34m_get_module\u001b[39m(\u001b[38;5;28mself\u001b[39m, module_name: \u001b[38;5;28mstr\u001b[39m):\n\u001b[32m   2072\u001b[39m     \u001b[38;5;28;01mtry\u001b[39;00m:\n\u001b[32m-> \u001b[39m\u001b[32m2073\u001b[39m         \u001b[38;5;28;01mreturn\u001b[39;00m \u001b[43mimportlib\u001b[49m\u001b[43m.\u001b[49m\u001b[43mimport_module\u001b[49m\u001b[43m(\u001b[49m\u001b[33;43m\"\u001b[39;49m\u001b[33;43m.\u001b[39;49m\u001b[33;43m\"\u001b[39;49m\u001b[43m \u001b[49m\u001b[43m+\u001b[49m\u001b[43m \u001b[49m\u001b[43mmodule_name\u001b[49m\u001b[43m,\u001b[49m\u001b[43m \u001b[49m\u001b[38;5;28;43mself\u001b[39;49m\u001b[43m.\u001b[49m\u001b[34;43m__name__\u001b[39;49m\u001b[43m)\u001b[49m\n\u001b[32m   2074\u001b[39m     \u001b[38;5;28;01mexcept\u001b[39;00m \u001b[38;5;167;01mException\u001b[39;00m \u001b[38;5;28;01mas\u001b[39;00m e:\n\u001b[32m   2075\u001b[39m         \u001b[38;5;28;01mraise\u001b[39;00m e\n",
      "\u001b[36mFile \u001b[39m\u001b[32mc:\\Users\\juraj\\anaconda3\\envs\\btd6_bot\\Lib\\importlib\\__init__.py:88\u001b[39m, in \u001b[36mimport_module\u001b[39m\u001b[34m(name, package)\u001b[39m\n\u001b[32m     86\u001b[39m             \u001b[38;5;28;01mbreak\u001b[39;00m\n\u001b[32m     87\u001b[39m         level += \u001b[32m1\u001b[39m\n\u001b[32m---> \u001b[39m\u001b[32m88\u001b[39m \u001b[38;5;28;01mreturn\u001b[39;00m \u001b[43m_bootstrap\u001b[49m\u001b[43m.\u001b[49m\u001b[43m_gcd_import\u001b[49m\u001b[43m(\u001b[49m\u001b[43mname\u001b[49m\u001b[43m[\u001b[49m\u001b[43mlevel\u001b[49m\u001b[43m:\u001b[49m\u001b[43m]\u001b[49m\u001b[43m,\u001b[49m\u001b[43m \u001b[49m\u001b[43mpackage\u001b[49m\u001b[43m,\u001b[49m\u001b[43m \u001b[49m\u001b[43mlevel\u001b[49m\u001b[43m)\u001b[49m\n",
      "\u001b[36mFile \u001b[39m\u001b[32mc:\\Users\\juraj\\anaconda3\\envs\\btd6_bot\\Lib\\site-packages\\transformers\\modeling_utils.py:46\u001b[39m\n\u001b[32m     44\u001b[39m \u001b[38;5;28;01mfrom\u001b[39;00m\u001b[38;5;250m \u001b[39m\u001b[34;01mtorch\u001b[39;00m\u001b[34;01m.\u001b[39;00m\u001b[34;01mdistributions\u001b[39;00m\u001b[38;5;250m \u001b[39m\u001b[38;5;28;01mimport\u001b[39;00m constraints\n\u001b[32m     45\u001b[39m \u001b[38;5;28;01mfrom\u001b[39;00m\u001b[38;5;250m \u001b[39m\u001b[34;01mtorch\u001b[39;00m\u001b[34;01m.\u001b[39;00m\u001b[34;01mnn\u001b[39;00m\u001b[38;5;250m \u001b[39m\u001b[38;5;28;01mimport\u001b[39;00m CrossEntropyLoss, Identity\n\u001b[32m---> \u001b[39m\u001b[32m46\u001b[39m \u001b[38;5;28;01mfrom\u001b[39;00m\u001b[38;5;250m \u001b[39m\u001b[34;01mtorch\u001b[39;00m\u001b[34;01m.\u001b[39;00m\u001b[34;01mutils\u001b[39;00m\u001b[34;01m.\u001b[39;00m\u001b[34;01mcheckpoint\u001b[39;00m\u001b[38;5;250m \u001b[39m\u001b[38;5;28;01mimport\u001b[39;00m checkpoint\n\u001b[32m     48\u001b[39m \u001b[38;5;28;01mfrom\u001b[39;00m\u001b[38;5;250m \u001b[39m\u001b[34;01mtransformers\u001b[39;00m\u001b[34;01m.\u001b[39;00m\u001b[34;01mutils\u001b[39;00m\u001b[38;5;250m \u001b[39m\u001b[38;5;28;01mimport\u001b[39;00m is_torchao_available\n\u001b[32m     51\u001b[39m \u001b[38;5;28;01mif\u001b[39;00m is_torchao_available():\n",
      "\u001b[36mFile \u001b[39m\u001b[32mc:\\Users\\juraj\\anaconda3\\envs\\btd6_bot\\Lib\\site-packages\\torch\\utils\\checkpoint.py:14\u001b[39m\n\u001b[32m     12\u001b[39m \u001b[38;5;28;01mimport\u001b[39;00m\u001b[38;5;250m \u001b[39m\u001b[34;01mtorch\u001b[39;00m\n\u001b[32m     13\u001b[39m \u001b[38;5;28;01mimport\u001b[39;00m\u001b[38;5;250m \u001b[39m\u001b[34;01mtorch\u001b[39;00m\u001b[34;01m.\u001b[39;00m\u001b[34;01mfx\u001b[39;00m\u001b[34;01m.\u001b[39;00m\u001b[34;01mtraceback\u001b[39;00m\u001b[38;5;250m \u001b[39m\u001b[38;5;28;01mas\u001b[39;00m\u001b[38;5;250m \u001b[39m\u001b[34;01mfx_traceback\u001b[39;00m\n\u001b[32m---> \u001b[39m\u001b[32m14\u001b[39m \u001b[38;5;28;01mfrom\u001b[39;00m\u001b[38;5;250m \u001b[39m\u001b[34;01mtorch\u001b[39;00m\u001b[34;01m.\u001b[39;00m\u001b[34;01m_functorch\u001b[39;00m\u001b[34;01m.\u001b[39;00m\u001b[34;01m_aot_autograd\u001b[39;00m\u001b[34;01m.\u001b[39;00m\u001b[34;01mfunctional_utils\u001b[39;00m\u001b[38;5;250m \u001b[39m\u001b[38;5;28;01mimport\u001b[39;00m is_fun\n\u001b[32m     15\u001b[39m \u001b[38;5;28;01mfrom\u001b[39;00m\u001b[38;5;250m \u001b[39m\u001b[34;01mtorch\u001b[39;00m\u001b[34;01m.\u001b[39;00m\u001b[34;01mutils\u001b[39;00m\u001b[34;01m.\u001b[39;00m\u001b[34;01m_pytree\u001b[39;00m\u001b[38;5;250m \u001b[39m\u001b[38;5;28;01mimport\u001b[39;00m tree_map\n\u001b[32m     16\u001b[39m \u001b[38;5;28;01mfrom\u001b[39;00m\u001b[38;5;250m \u001b[39m\u001b[34;01mtorch\u001b[39;00m\u001b[34;01m.\u001b[39;00m\u001b[34;01mtesting\u001b[39;00m\u001b[34;01m.\u001b[39;00m\u001b[34;01m_internal\u001b[39;00m\u001b[34;01m.\u001b[39;00m\u001b[34;01mlogging_tensor\u001b[39;00m\u001b[38;5;250m \u001b[39m\u001b[38;5;28;01mimport\u001b[39;00m capture_logs, LoggingTensorMode\n",
      "\u001b[36mFile \u001b[39m\u001b[32mc:\\Users\\juraj\\anaconda3\\envs\\btd6_bot\\Lib\\site-packages\\torch\\_functorch\\_aot_autograd\\functional_utils.py:20\u001b[39m\n\u001b[32m     18\u001b[39m \u001b[38;5;28;01mfrom\u001b[39;00m\u001b[38;5;250m \u001b[39m\u001b[34;01mtorch\u001b[39;00m\u001b[34;01m.\u001b[39;00m\u001b[34;01m_subclasses\u001b[39;00m\u001b[34;01m.\u001b[39;00m\u001b[34;01mfunctional_tensor\u001b[39;00m\u001b[38;5;250m \u001b[39m\u001b[38;5;28;01mimport\u001b[39;00m FunctionalTensor\n\u001b[32m     19\u001b[39m \u001b[38;5;28;01mfrom\u001b[39;00m\u001b[38;5;250m \u001b[39m\u001b[34;01mtorch\u001b[39;00m\u001b[34;01m.\u001b[39;00m\u001b[34;01m_subclasses\u001b[39;00m\u001b[34;01m.\u001b[39;00m\u001b[34;01mmeta_utils\u001b[39;00m\u001b[38;5;250m \u001b[39m\u001b[38;5;28;01mimport\u001b[39;00m is_sparse_any\n\u001b[32m---> \u001b[39m\u001b[32m20\u001b[39m \u001b[38;5;28;01mfrom\u001b[39;00m\u001b[38;5;250m \u001b[39m\u001b[34;01mtorch\u001b[39;00m\u001b[34;01m.\u001b[39;00m\u001b[34;01mfx\u001b[39;00m\u001b[34;01m.\u001b[39;00m\u001b[34;01mexperimental\u001b[39;00m\u001b[34;01m.\u001b[39;00m\u001b[34;01msymbolic_shapes\u001b[39;00m\u001b[38;5;250m \u001b[39m\u001b[38;5;28;01mimport\u001b[39;00m (\n\u001b[32m     21\u001b[39m     definitely_true,\n\u001b[32m     22\u001b[39m     sym_eq,\n\u001b[32m     23\u001b[39m     SymIntEqByExpr,\n\u001b[32m     24\u001b[39m )\n\u001b[32m     25\u001b[39m \u001b[38;5;28;01mfrom\u001b[39;00m\u001b[38;5;250m \u001b[39m\u001b[34;01mtorch\u001b[39;00m\u001b[34;01m.\u001b[39;00m\u001b[34;01mmultiprocessing\u001b[39;00m\u001b[34;01m.\u001b[39;00m\u001b[34;01mreductions\u001b[39;00m\u001b[38;5;250m \u001b[39m\u001b[38;5;28;01mimport\u001b[39;00m StorageWeakRef\n\u001b[32m     26\u001b[39m \u001b[38;5;28;01mfrom\u001b[39;00m\u001b[38;5;250m \u001b[39m\u001b[34;01mtorch\u001b[39;00m\u001b[34;01m.\u001b[39;00m\u001b[34;01mutils\u001b[39;00m\u001b[34;01m.\u001b[39;00m\u001b[34;01m_python_dispatch\u001b[39;00m\u001b[38;5;250m \u001b[39m\u001b[38;5;28;01mimport\u001b[39;00m (\n\u001b[32m     27\u001b[39m     is_traceable_wrapper_subclass,\n\u001b[32m     28\u001b[39m     transform_subclass,\n\u001b[32m     29\u001b[39m )\n",
      "\u001b[36mFile \u001b[39m\u001b[32mc:\\Users\\juraj\\anaconda3\\envs\\btd6_bot\\Lib\\site-packages\\torch\\fx\\experimental\\symbolic_shapes.py:67\u001b[39m\n\u001b[32m     65\u001b[39m \u001b[38;5;28;01mfrom\u001b[39;00m\u001b[38;5;250m \u001b[39m\u001b[34;01mtorch\u001b[39;00m\u001b[34;01m.\u001b[39;00m\u001b[34;01mutils\u001b[39;00m\u001b[34;01m.\u001b[39;00m\u001b[34;01m_ordered_set\u001b[39;00m\u001b[38;5;250m \u001b[39m\u001b[38;5;28;01mimport\u001b[39;00m OrderedSet\n\u001b[32m     66\u001b[39m \u001b[38;5;28;01mfrom\u001b[39;00m\u001b[38;5;250m \u001b[39m\u001b[34;01mtorch\u001b[39;00m\u001b[34;01m.\u001b[39;00m\u001b[34;01mutils\u001b[39;00m\u001b[34;01m.\u001b[39;00m\u001b[34;01m_python_dispatch\u001b[39;00m\u001b[38;5;250m \u001b[39m\u001b[38;5;28;01mimport\u001b[39;00m is_traceable_wrapper_subclass\n\u001b[32m---> \u001b[39m\u001b[32m67\u001b[39m \u001b[38;5;28;01mfrom\u001b[39;00m\u001b[38;5;250m \u001b[39m\u001b[34;01mtorch\u001b[39;00m\u001b[34;01m.\u001b[39;00m\u001b[34;01mutils\u001b[39;00m\u001b[34;01m.\u001b[39;00m\u001b[34;01m_sympy\u001b[39;00m\u001b[34;01m.\u001b[39;00m\u001b[34;01mfunctions\u001b[39;00m\u001b[38;5;250m \u001b[39m\u001b[38;5;28;01mimport\u001b[39;00m (\n\u001b[32m     68\u001b[39m     Application,\n\u001b[32m     69\u001b[39m     CeilToInt,\n\u001b[32m     70\u001b[39m     CleanDiv,\n\u001b[32m     71\u001b[39m     FloorDiv,\n\u001b[32m     72\u001b[39m     FloorToInt,\n\u001b[32m     73\u001b[39m     IsNonOverlappingAndDenseIndicator,\n\u001b[32m     74\u001b[39m     Max,\n\u001b[32m     75\u001b[39m     Mod,\n\u001b[32m     76\u001b[39m     PythonMod,\n\u001b[32m     77\u001b[39m )\n\u001b[32m     78\u001b[39m \u001b[38;5;28;01mfrom\u001b[39;00m\u001b[38;5;250m \u001b[39m\u001b[34;01mtorch\u001b[39;00m\u001b[34;01m.\u001b[39;00m\u001b[34;01mutils\u001b[39;00m\u001b[34;01m.\u001b[39;00m\u001b[34;01m_sympy\u001b[39;00m\u001b[34;01m.\u001b[39;00m\u001b[34;01mnumbers\u001b[39;00m\u001b[38;5;250m \u001b[39m\u001b[38;5;28;01mimport\u001b[39;00m int_oo\n\u001b[32m     79\u001b[39m \u001b[38;5;28;01mfrom\u001b[39;00m\u001b[38;5;250m \u001b[39m\u001b[34;01mtorch\u001b[39;00m\u001b[34;01m.\u001b[39;00m\u001b[34;01mutils\u001b[39;00m\u001b[34;01m.\u001b[39;00m\u001b[34;01m_sympy\u001b[39;00m\u001b[34;01m.\u001b[39;00m\u001b[34;01mprinters\u001b[39;00m\u001b[38;5;250m \u001b[39m\u001b[38;5;28;01mimport\u001b[39;00m CppPrinter, PythonPrinter\n",
      "\u001b[36mFile \u001b[39m\u001b[32mc:\\Users\\juraj\\anaconda3\\envs\\btd6_bot\\Lib\\site-packages\\torch\\utils\\_sympy\\functions.py:9\u001b[39m\n\u001b[32m      6\u001b[39m \u001b[38;5;28;01mfrom\u001b[39;00m\u001b[38;5;250m \u001b[39m\u001b[34;01mtyping\u001b[39;00m\u001b[38;5;250m \u001b[39m\u001b[38;5;28;01mimport\u001b[39;00m Callable, Optional, SupportsFloat, TYPE_CHECKING, TypeVar, Union\n\u001b[32m      7\u001b[39m \u001b[38;5;28;01mfrom\u001b[39;00m\u001b[38;5;250m \u001b[39m\u001b[34;01mtyping_extensions\u001b[39;00m\u001b[38;5;250m \u001b[39m\u001b[38;5;28;01mimport\u001b[39;00m TypeVarTuple, Unpack\n\u001b[32m----> \u001b[39m\u001b[32m9\u001b[39m \u001b[38;5;28;01mimport\u001b[39;00m\u001b[38;5;250m \u001b[39m\u001b[34;01msympy\u001b[39;00m\n\u001b[32m     10\u001b[39m \u001b[38;5;28;01mfrom\u001b[39;00m\u001b[38;5;250m \u001b[39m\u001b[34;01msympy\u001b[39;00m\u001b[38;5;250m \u001b[39m\u001b[38;5;28;01mimport\u001b[39;00m S\n\u001b[32m     11\u001b[39m \u001b[38;5;28;01mfrom\u001b[39;00m\u001b[38;5;250m \u001b[39m\u001b[34;01msympy\u001b[39;00m\u001b[34;01m.\u001b[39;00m\u001b[34;01mcore\u001b[39;00m\u001b[38;5;250m \u001b[39m\u001b[38;5;28;01mimport\u001b[39;00m sympify\n",
      "\u001b[36mFile \u001b[39m\u001b[32mc:\\Users\\juraj\\anaconda3\\envs\\btd6_bot\\Lib\\site-packages\\sympy\\__init__.py:23\u001b[39m\n\u001b[32m     19\u001b[39m \u001b[38;5;28;01mdel\u001b[39;00m sys\n\u001b[32m     22\u001b[39m \u001b[38;5;28;01mtry\u001b[39;00m:\n\u001b[32m---> \u001b[39m\u001b[32m23\u001b[39m     \u001b[38;5;28;01mimport\u001b[39;00m\u001b[38;5;250m \u001b[39m\u001b[34;01mmpmath\u001b[39;00m\n\u001b[32m     24\u001b[39m \u001b[38;5;28;01mexcept\u001b[39;00m \u001b[38;5;167;01mImportError\u001b[39;00m:\n\u001b[32m     25\u001b[39m     \u001b[38;5;28;01mraise\u001b[39;00m \u001b[38;5;167;01mImportError\u001b[39;00m(\u001b[33m\"\u001b[39m\u001b[33mSymPy now depends on mpmath as an external library. \u001b[39m\u001b[33m\"\u001b[39m\n\u001b[32m     26\u001b[39m     \u001b[33m\"\u001b[39m\u001b[33mSee https://docs.sympy.org/latest/install.html#mpmath for more information.\u001b[39m\u001b[33m\"\u001b[39m)\n",
      "\u001b[36mFile \u001b[39m\u001b[32mc:\\Users\\juraj\\anaconda3\\envs\\btd6_bot\\Lib\\site-packages\\mpmath\\__init__.py:5\u001b[39m\n\u001b[32m      1\u001b[39m __version__ = \u001b[33m'\u001b[39m\u001b[33m1.3.0\u001b[39m\u001b[33m'\u001b[39m\n\u001b[32m      3\u001b[39m \u001b[38;5;28;01mfrom\u001b[39;00m\u001b[38;5;250m \u001b[39m\u001b[34;01m.\u001b[39;00m\u001b[34;01musertools\u001b[39;00m\u001b[38;5;250m \u001b[39m\u001b[38;5;28;01mimport\u001b[39;00m monitor, timing\n\u001b[32m----> \u001b[39m\u001b[32m5\u001b[39m \u001b[38;5;28;01mfrom\u001b[39;00m\u001b[38;5;250m \u001b[39m\u001b[34;01m.\u001b[39;00m\u001b[34;01mctx_fp\u001b[39;00m\u001b[38;5;250m \u001b[39m\u001b[38;5;28;01mimport\u001b[39;00m FPContext\n\u001b[32m      6\u001b[39m \u001b[38;5;28;01mfrom\u001b[39;00m\u001b[38;5;250m \u001b[39m\u001b[34;01m.\u001b[39;00m\u001b[34;01mctx_mp\u001b[39;00m\u001b[38;5;250m \u001b[39m\u001b[38;5;28;01mimport\u001b[39;00m MPContext\n\u001b[32m      7\u001b[39m \u001b[38;5;28;01mfrom\u001b[39;00m\u001b[38;5;250m \u001b[39m\u001b[34;01m.\u001b[39;00m\u001b[34;01mctx_iv\u001b[39;00m\u001b[38;5;250m \u001b[39m\u001b[38;5;28;01mimport\u001b[39;00m MPIntervalContext\n",
      "\u001b[36mFile \u001b[39m\u001b[32mc:\\Users\\juraj\\anaconda3\\envs\\btd6_bot\\Lib\\site-packages\\mpmath\\ctx_fp.py:1\u001b[39m\n\u001b[32m----> \u001b[39m\u001b[32m1\u001b[39m \u001b[38;5;28;01mfrom\u001b[39;00m\u001b[38;5;250m \u001b[39m\u001b[34;01m.\u001b[39;00m\u001b[34;01mctx_base\u001b[39;00m\u001b[38;5;250m \u001b[39m\u001b[38;5;28;01mimport\u001b[39;00m StandardBaseContext\n\u001b[32m      3\u001b[39m \u001b[38;5;28;01mimport\u001b[39;00m\u001b[38;5;250m \u001b[39m\u001b[34;01mmath\u001b[39;00m\n\u001b[32m      4\u001b[39m \u001b[38;5;28;01mimport\u001b[39;00m\u001b[38;5;250m \u001b[39m\u001b[34;01mcmath\u001b[39;00m\n",
      "\u001b[36mFile \u001b[39m\u001b[32mc:\\Users\\juraj\\anaconda3\\envs\\btd6_bot\\Lib\\site-packages\\mpmath\\ctx_base.py:3\u001b[39m\n\u001b[32m      1\u001b[39m \u001b[38;5;28;01mfrom\u001b[39;00m\u001b[38;5;250m \u001b[39m\u001b[34;01moperator\u001b[39;00m\u001b[38;5;250m \u001b[39m\u001b[38;5;28;01mimport\u001b[39;00m gt, lt\n\u001b[32m----> \u001b[39m\u001b[32m3\u001b[39m \u001b[38;5;28;01mfrom\u001b[39;00m\u001b[38;5;250m \u001b[39m\u001b[34;01m.\u001b[39;00m\u001b[34;01mlibmp\u001b[39;00m\u001b[34;01m.\u001b[39;00m\u001b[34;01mbackend\u001b[39;00m\u001b[38;5;250m \u001b[39m\u001b[38;5;28;01mimport\u001b[39;00m xrange\n\u001b[32m      5\u001b[39m \u001b[38;5;28;01mfrom\u001b[39;00m\u001b[38;5;250m \u001b[39m\u001b[34;01m.\u001b[39;00m\u001b[34;01mfunctions\u001b[39;00m\u001b[34;01m.\u001b[39;00m\u001b[34;01mfunctions\u001b[39;00m\u001b[38;5;250m \u001b[39m\u001b[38;5;28;01mimport\u001b[39;00m SpecialFunctions\n\u001b[32m      6\u001b[39m \u001b[38;5;28;01mfrom\u001b[39;00m\u001b[38;5;250m \u001b[39m\u001b[34;01m.\u001b[39;00m\u001b[34;01mfunctions\u001b[39;00m\u001b[34;01m.\u001b[39;00m\u001b[34;01mrszeta\u001b[39;00m\u001b[38;5;250m \u001b[39m\u001b[38;5;28;01mimport\u001b[39;00m RSCache\n",
      "\u001b[36mFile \u001b[39m\u001b[32m<frozen importlib._bootstrap>:1360\u001b[39m, in \u001b[36m_find_and_load\u001b[39m\u001b[34m(name, import_)\u001b[39m\n",
      "\u001b[36mFile \u001b[39m\u001b[32m<frozen importlib._bootstrap>:1322\u001b[39m, in \u001b[36m_find_and_load_unlocked\u001b[39m\u001b[34m(name, import_)\u001b[39m\n",
      "\u001b[36mFile \u001b[39m\u001b[32m<frozen importlib._bootstrap>:1262\u001b[39m, in \u001b[36m_find_spec\u001b[39m\u001b[34m(name, path, target)\u001b[39m\n",
      "\u001b[36mFile \u001b[39m\u001b[32m<frozen importlib._bootstrap_external>:1559\u001b[39m, in \u001b[36mfind_spec\u001b[39m\u001b[34m(cls, fullname, path, target)\u001b[39m\n",
      "\u001b[36mFile \u001b[39m\u001b[32m<frozen importlib._bootstrap_external>:1533\u001b[39m, in \u001b[36m_get_spec\u001b[39m\u001b[34m(cls, fullname, path, target)\u001b[39m\n",
      "\u001b[36mFile \u001b[39m\u001b[32m<frozen importlib._bootstrap_external>:1651\u001b[39m, in \u001b[36mfind_spec\u001b[39m\u001b[34m(self, fullname, target)\u001b[39m\n",
      "\u001b[31mKeyboardInterrupt\u001b[39m: "
     ]
    }
   ],
   "source": [
    "from gameplay import Gameplay\n",
    "from main import BTD6Bot\n",
    "import time\n",
    "import pyautogui\n",
    "\n",
    "time.sleep(2)\n",
    "\n",
    "bot = BTD6Bot()\n",
    "bot.read_which_map_to_play()\n"
   ]
  },
  {
   "cell_type": "code",
   "execution_count": 1,
   "metadata": {},
   "outputs": [
    {
     "ename": "NameError",
     "evalue": "name 'bot' is not defined",
     "output_type": "error",
     "traceback": [
      "\u001b[31m---------------------------------------------------------------------------\u001b[39m",
      "\u001b[31mNameError\u001b[39m                                 Traceback (most recent call last)",
      "\u001b[36mCell\u001b[39m\u001b[36m \u001b[39m\u001b[32mIn[1]\u001b[39m\u001b[32m, line 1\u001b[39m\n\u001b[32m----> \u001b[39m\u001b[32m1\u001b[39m \u001b[43mbot\u001b[49m\n",
      "\u001b[31mNameError\u001b[39m: name 'bot' is not defined"
     ]
    }
   ],
   "source": [
    "bot"
   ]
  },
  {
   "cell_type": "code",
   "execution_count": 26,
   "metadata": {},
   "outputs": [
    {
     "data": {
      "image/png": "[encoded data removed]",
      "text/plain": [
       "<Figure size 640x480 with 1 Axes>"
      ]
     },
     "metadata": {},
     "output_type": "display_data"
    }
   ],
   "source": [
    "import pytesseract\n",
    "screenshot = cv2.imread(\"images/misc/map_to_play.png\")\n",
    "# Convert to grayscale\n",
    "screenshot = cv2.cvtColor(screenshot, cv2.COLOR_BGR2GRAY)\n",
    "# Threshold the image\n",
    "_, screenshot = cv2.threshold(screenshot, 127, 255, cv2.THRESH_BINARY)\n",
    "# Save the image\n",
    "cv2.imwrite(\"images/misc/map_to_play_threshold.png\", screenshot)\n",
    "text = pytesseract.image_to_string(screenshot)\n",
    "\n",
    "text\n",
    "\n",
    "import matplotlib.pyplot as plt\n",
    "plt.imshow(screenshot, cmap='gray')\n",
    "plt.show()"
   ]
  },
  {
   "cell_type": "code",
   "execution_count": 14,
   "metadata": {},
   "outputs": [
    {
     "name": "stdout",
     "output_type": "stream",
     "text": [
      "Found 3 matches:\n",
      "Match 1: Confidence=0.991, Position=(900, 547), Size=(128, 101)\n",
      "Match 2: Confidence=0.991, Position=(566, 547), Size=(128, 101)\n",
      "Match 3: Confidence=0.943, Position=(1235, 547), Size=(128, 101)\n"
     ]
    },
    {
     "data": {
      "image/png": "[encoded data removed]",
      "text/plain": [
       "<Figure size 1200x800 with 1 Axes>"
      ]
     },
     "metadata": {},
     "output_type": "display_data"
    }
   ],
   "source": [
    "# Importing libraries\n",
    "import cv2\n",
    "import numpy as np\n",
    "import matplotlib.pyplot as plt\n",
    "\n",
    "def find_best_matches(img1, img2, num_matches=3, threshold=0.5):\n",
    "    \"\"\"\n",
    "    Find the best matches of img1 in img2 using template matching.\n",
    "    \n",
    "    Args:\n",
    "        img1: Template image to find\n",
    "        img2: Image to search in\n",
    "        num_matches: Number of best matches to return\n",
    "        threshold: Minimum confidence threshold for matches\n",
    "    \n",
    "    Returns:\n",
    "        List of tuples: (confidence, (x, y), (width, height))\n",
    "    \"\"\"\n",
    "    # Convert images to grayscale if they aren't already\n",
    "    if len(img1.shape) == 3:\n",
    "        img1 = cv2.cvtColor(img1, cv2.COLOR_BGR2GRAY)\n",
    "    if len(img2.shape) == 3:\n",
    "        img2 = cv2.cvtColor(img2, cv2.COLOR_BGR2GRAY)\n",
    "    \n",
    "    # Perform template matching\n",
    "    result = cv2.matchTemplate(img2, img1, cv2.TM_CCOEFF_NORMED)\n",
    "    \n",
    "    # Get template dimensions\n",
    "    h, w = img1.shape\n",
    "    \n",
    "    # Find all locations where the correlation exceeds threshold\n",
    "    locations = np.where(result >= threshold)\n",
    "    matches = []\n",
    "    \n",
    "    for pt in zip(*locations[::-1]):  # Switch columns and rows\n",
    "        confidence = result[pt[1], pt[0]]\n",
    "        matches.append((confidence, pt, (w, h)))\n",
    "    \n",
    "    # Sort matches by confidence (descending)\n",
    "    matches.sort(key=lambda x: x[0], reverse=True)\n",
    "    \n",
    "    # Remove overlapping matches (non-maximum suppression)\n",
    "    filtered_matches = []\n",
    "    for match in matches:\n",
    "        confidence, (x, y), (w, h) = match\n",
    "        \n",
    "        # Check if this match overlaps significantly with any existing match\n",
    "        overlap = False\n",
    "        for existing_match in filtered_matches:\n",
    "            ex, ey, ew, eh = existing_match[1][0], existing_match[1][1], existing_match[2][0], existing_match[2][1]\n",
    "            \n",
    "            # Calculate overlap area\n",
    "            x_overlap = max(0, min(x + w, ex + ew) - max(x, ex))\n",
    "            y_overlap = max(0, min(y + h, ey + eh) - max(y, ey))\n",
    "            overlap_area = x_overlap * y_overlap\n",
    "            \n",
    "            # Calculate areas\n",
    "            area1 = w * h\n",
    "            area2 = ew * eh\n",
    "            min_area = min(area1, area2)\n",
    "            \n",
    "            # If overlap is more than 50% of the smaller area, consider it overlapping\n",
    "            if overlap_area > 0.5 * min_area:\n",
    "                overlap = True\n",
    "                break\n",
    "        \n",
    "        if not overlap:\n",
    "            filtered_matches.append(match)\n",
    "            if len(filtered_matches) >= num_matches:\n",
    "                break\n",
    "    \n",
    "    return filtered_matches[:num_matches]\n",
    "\n",
    "# Example usage\n",
    "img1 = cv2.imread(\"images/collection_event/tier2.png\")\n",
    "img2 = cv2.imread(\"images/screenshots/3.png\")\n",
    "\n",
    "# Find best 3 matches\n",
    "matches = find_best_matches(img1, img2, num_matches=3, threshold=0.3)\n",
    "\n",
    "print(f\"Found {len(matches)} matches:\")\n",
    "for i, (confidence, (x, y), (w, h)) in enumerate(matches):\n",
    "    print(f\"Match {i+1}: Confidence={confidence:.3f}, Position=({x}, {y}), Size=({w}, {h})\")\n",
    "\n",
    "# Visualize the matches\n",
    "if len(img2.shape) == 3:\n",
    "    display_img = img2.copy()\n",
    "else:\n",
    "    display_img = cv2.cvtColor(img2, cv2.COLOR_GRAY2BGR)\n",
    "\n",
    "for i, (confidence, (x, y), (w, h)) in enumerate(matches):\n",
    "    # Draw rectangle around match\n",
    "    color = [(0, 255, 0), (255, 0, 0), (0, 0, 255)][i % 3]  # Green, Blue, Red\n",
    "    cv2.rectangle(display_img, (x, y), (x + w, y + h), color, 2)\n",
    "    \n",
    "    # Add confidence text\n",
    "    cv2.putText(display_img, f\"{confidence:.2f}\", (x, y - 10), \n",
    "                cv2.FONT_HERSHEY_SIMPLEX, 0.5, color, 1)\n",
    "\n",
    "# Display the result\n",
    "plt.figure(figsize=(12, 8))\n",
    "plt.imshow(cv2.cvtColor(display_img, cv2.COLOR_BGR2RGB))\n",
    "plt.title(\"Best 3 matches found\")\n",
    "plt.axis('off')\n",
    "plt.show()"
   ]
  },
  {
   "cell_type": "code",
   "execution_count": 23,
   "metadata": {},
   "outputs": [
    {
     "name": "stderr",
     "output_type": "stream",
     "text": [
      "2025-06-19 10:51:38,307 - WARNING - Image not found with sufficient confidence. Max confidence: 0.265\n"
     ]
    },
    {
     "data": {
      "text/plain": [
       "True"
      ]
     },
     "execution_count": 23,
     "metadata": {},
     "output_type": "execute_result"
    }
   ],
   "source": [
    "from main import BTD6Bot\n",
    "import time\n",
    "\n",
    "\n",
    "bot = BTD6Bot()\n",
    "time.sleep(3)\n",
    "\n",
    "bot.collection_event()"
   ]
  }
 ],
 "metadata": {
  "kernelspec": {
   "display_name": "btd6_bot",
   "language": "python",
   "name": "python3"
  },
  "language_info": {
   "codemirror_mode": {
    "name": "ipython",
    "version": 3
   },
   "file_extension": ".py",
   "mimetype": "text/x-python",
   "name": "python",
   "nbconvert_exporter": "python",
   "pygments_lexer": "ipython3",
   "version": "3.13.5"
  }
 },
 "nbformat": 4,
 "nbformat_minor": 2
}
