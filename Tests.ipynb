{
 "cells": [
  {
   "cell_type": "code",
   "execution_count": 2,
   "metadata": {},
   "outputs": [],
   "source": [
    "import pyautogui\n",
    "import cv2\n",
    "import numpy as np\n",
    "\n",
    "# Create a transparent overlay window\n",
    "cv2.namedWindow(\"Mouse Coordinates\", cv2.WINDOW_NORMAL)\n",
    "cv2.setWindowProperty(\"Mouse Coordinates\", cv2.WND_PROP_TOPMOST, 1)\n",
    "\n",
    "while True:\n",
    "    x, y = pyautogui.position()\n",
    "    img = np.zeros((100, 300, 3), dtype=np.uint8)  # Black background\n",
    "    cv2.putText(img, f\"X: {x}, Y: {y}\", (10, 50), \n",
    "                cv2.FONT_HERSHEY_SIMPLEX, 1, (0, 255, 0), 2)\n",
    "    cv2.imshow(\"Mouse Coordinates\", img)\n",
    "    \n",
    "    if cv2.waitKey(1) & 0xFF == 27:  # Press ESC to exit\n",
    "        break\n",
    "\n",
    "cv2.destroyAllWindows()"
   ]
  },
  {
   "cell_type": "code",
   "execution_count": 6,
   "metadata": {},
   "outputs": [
    {
     "name": "stdout",
     "output_type": "stream",
     "text": [
      "Region Coordinates: (x=304, y=218, width=366, height=28)\n"
     ]
    }
   ],
   "source": [
    "import cv2\n",
    "import numpy as np\n",
    "import os\n",
    "import glob\n",
    "\n",
    "# Initialize variables\n",
    "drawing = False\n",
    "ix, iy = -1, -1\n",
    "fx, fy = -1, -1\n",
    "\n",
    "# Mouse callback function\n",
    "def draw_rectangle(event, x, y, flags, param):\n",
    "    global ix, iy, fx, fy, drawing\n",
    "\n",
    "    if event == cv2.EVENT_LBUTTONDOWN:\n",
    "        drawing = True\n",
    "        ix, iy = x, y\n",
    "\n",
    "    elif event == cv2.EVENT_MOUSEMOVE:\n",
    "        if drawing:\n",
    "            fx, fy = x, y\n",
    "\n",
    "    elif event == cv2.EVENT_LBUTTONUP:\n",
    "        drawing = False\n",
    "        fx, fy = x, y\n",
    "        print(f\"Region Coordinates: (x={min(ix, fx)}, y={min(iy, fy)}, width={abs(fx-ix)}, height={abs(fy-iy)})\")\n",
    "        cv2.destroyAllWindows()\n",
    "\n",
    "def get_latest_screenshot(folder_path):\n",
    "    # List all PNG files in the folder\n",
    "    screenshot_files = glob.glob(os.path.join(folder_path, \"*.png\"))\n",
    "    \n",
    "    # Sort by modification time (newest first)\n",
    "    screenshot_files.sort(key=os.path.getmtime, reverse=True)\n",
    "    \n",
    "    if not screenshot_files:\n",
    "        raise FileNotFoundError(\"No screenshots found in the folder!\")\n",
    "    \n",
    "    return screenshot_files[0]  # Return the newest screenshot\n",
    "\n",
    "# Example usage (using raw string for Windows paths)\n",
    "screenshot_folder = r\"Images/screenshots\"  # <- FIXED (backslashes + raw string)\n",
    "latest_screenshot_path = get_latest_screenshot(screenshot_folder)\n",
    "\n",
    "# Load the image properly (using OpenCV)\n",
    "screenshot = cv2.imread(latest_screenshot_path)\n",
    "\n",
    "if screenshot is None:\n",
    "    raise FileNotFoundError(\"Failed to load the screenshot!\")\n",
    "\n",
    "# Create a window and bind the mouse callback\n",
    "cv2.namedWindow(\"Select Region\")\n",
    "cv2.setMouseCallback(\"Select Region\", draw_rectangle)\n",
    "\n",
    "while True:\n",
    "    img = screenshot.copy()\n",
    "    if ix != -1 and iy != -1 and fx != -1 and fy != -1:\n",
    "        cv2.rectangle(img, (ix, iy), (fx, fy), (0, 255, 0), 2)\n",
    "    cv2.imshow(\"Select Region\", img)\n",
    "    \n",
    "    if cv2.waitKey(1) & 0xFF == 27:  # Press ESC to exit\n",
    "        break\n",
    "\n",
    "cv2.destroyAllWindows()"
   ]
  },
  {
   "cell_type": "code",
   "execution_count": 4,
   "metadata": {},
   "outputs": [
    {
     "name": "stderr",
     "output_type": "stream",
     "text": [
      "2025-06-17 18:05:22,632 - INFO - BTD6 is already running\n",
      "2025-06-17 18:05:22,636 - INFO - Focused BTD6 window.\n",
      "2025-06-17 18:05:23,161 - INFO - Looking for Collect common tower...\n"
     ]
    },
    {
     "name": "stdout",
     "output_type": "stream",
     "text": [
      "Max val is  0.12944704294204712\n",
      "Collection Event found\n",
      "Max val is  0.46805351972579956\n",
      "Max val is  0.46805691719055176\n",
      "Max val is  0.46805351972579956\n",
      "Max val is  0.46805691719055176\n",
      "Max val is  0.46805351972579956\n",
      "Max val is  0.46805691719055176\n",
      "Max val is  0.46805691719055176\n",
      "Max val is  0.46805351972579956\n",
      "Max val is  0.46805351972579956\n",
      "Max val is  0.46805691719055176\n",
      "Max val is  0.46805691719055176\n",
      "Max val is  0.46806028485298157\n",
      "Max val is  0.46805691719055176\n",
      "Max val is  0.46805351972579956\n",
      "Max val is  0.46805012226104736\n",
      "Max val is  0.46805691719055176\n",
      "Max val is  0.46805691719055176\n"
     ]
    },
    {
     "name": "stderr",
     "output_type": "stream",
     "text": [
      "2025-06-17 18:05:32,855 - INFO - Clicked Collect common tower.\n",
      "2025-06-17 18:05:32,856 - INFO - Looking for Collect tier3 tower...\n"
     ]
    },
    {
     "name": "stdout",
     "output_type": "stream",
     "text": [
      "Max val is  0.2558014988899231\n",
      "Max val is  0.25580376386642456\n",
      "Max val is  0.25580263137817383\n",
      "Max val is  0.25580376386642456\n",
      "Max val is  0.2558014988899231\n",
      "Max val is  0.25580376386642456\n",
      "Max val is  0.2558014988899231\n",
      "Max val is  0.2558014988899231\n",
      "Max val is  0.25580376386642456\n",
      "Max val is  0.4364020824432373\n"
     ]
    },
    {
     "name": "stderr",
     "output_type": "stream",
     "text": [
      "2025-06-17 18:05:38,606 - INFO - Clicked Collect tier3 tower.\n",
      "2025-06-17 18:05:40,109 - INFO - Looking for Collect common tower...\n"
     ]
    },
    {
     "name": "stdout",
     "output_type": "stream",
     "text": [
      "Max val is  0.3928545415401459\n",
      "Max val is  0.3928545415401459\n",
      "Max val is  0.3928545415401459\n",
      "Max val is  0.3928545415401459\n",
      "Max val is  0.3928545415401459\n",
      "Max val is  0.3928545415401459\n",
      "Max val is  0.3928545415401459\n",
      "Max val is  0.3928545415401459\n",
      "Max val is  0.3928545415401459\n",
      "Max val is  0.3928545415401459\n",
      "Max val is  0.3928545415401459\n",
      "Max val is  0.3928545415401459\n",
      "Max val is  0.3928545415401459\n",
      "Max val is  0.3928545415401459\n",
      "Max val is  0.3928545415401459\n",
      "Max val is  0.3928545415401459\n",
      "Max val is  0.3928545415401459\n",
      "Max val is  0.3928545415401459\n",
      "Max val is  0.3928545415401459\n",
      "Max val is  0.3928545415401459\n",
      "Max val is  0.3928545415401459\n",
      "Max val is  0.4117644727230072\n",
      "Max val is  0.4117644727230072\n",
      "Max val is  0.4117644727230072\n",
      "Max val is  0.411758154630661\n",
      "Max val is  0.4117644727230072\n",
      "Max val is  0.4117644727230072\n",
      "Max val is  0.4117644727230072\n",
      "Max val is  0.4117644727230072\n",
      "Max val is  0.4117644727230072\n",
      "Max val is  0.4117644727230072\n",
      "Max val is  0.4117644727230072\n",
      "Max val is  0.4117644727230072\n",
      "Max val is  0.4117644727230072\n",
      "Max val is  0.4117644727230072\n",
      "Max val is  0.4117707908153534\n",
      "Max val is  0.4117707908153534\n",
      "Max val is  0.4117707908153534\n",
      "Max val is  0.4117707908153534\n",
      "Max val is  0.4117707908153534\n",
      "Max val is  0.4117771089076996\n",
      "Max val is  0.4117644727230072\n",
      "Max val is  0.4117644727230072\n",
      "Max val is  0.4117644727230072\n",
      "Max val is  0.4117644727230072\n",
      "Max val is  0.4117644727230072\n",
      "Max val is  0.4117644727230072\n",
      "Max val is  0.4117644727230072\n",
      "Max val is  0.4117644727230072\n",
      "Max val is  0.4117644727230072\n",
      "Max val is  0.4117644727230072\n",
      "Max val is  0.4117644727230072\n",
      "Max val is  0.4117644727230072\n",
      "Max val is  0.4117644727230072\n",
      "Max val is  0.4117644727230072\n",
      "Max val is  0.4117644727230072\n",
      "Max val is  0.4117644727230072\n",
      "Max val is  0.4117644727230072\n",
      "Max val is  0.4117644727230072\n",
      "Max val is  0.4117644727230072\n",
      "Max val is  0.39989808201789856\n",
      "Max val is  0.39989808201789856\n",
      "Max val is  0.4121036231517792\n",
      "Max val is  0.4121066927909851\n",
      "Max val is  0.4121066927909851\n",
      "Max val is  0.4121159017086029\n",
      "Max val is  0.41210976243019104\n",
      "Max val is  0.4121036231517792\n",
      "Max val is  0.412112832069397\n",
      "Max val is  0.41210976243019104\n",
      "Max val is  0.41210976243019104\n",
      "Max val is  0.4121036231517792\n",
      "Max val is  0.41210976243019104\n",
      "Max val is  0.41210976243019104\n",
      "Max val is  0.4121036231517792\n",
      "Max val is  0.4121036231517792\n",
      "Max val is  0.41210976243019104\n",
      "Max val is  0.4121036231517792\n",
      "Max val is  0.4121036231517792\n",
      "Max val is  0.41210976243019104\n",
      "Max val is  0.41210976243019104\n",
      "Max val is  0.4121036231517792\n",
      "Max val is  0.41210976243019104\n",
      "Max val is  0.41210976243019104\n",
      "Max val is  0.4121036231517792\n",
      "Max val is  0.41210976243019104\n",
      "Max val is  0.41210976243019104\n",
      "Max val is  0.41210976243019104\n",
      "Max val is  0.411758154630661\n"
     ]
    },
    {
     "name": "stderr",
     "output_type": "stream",
     "text": [
      "2025-06-17 18:06:16,838 - INFO - Clicked Collect common tower.\n",
      "2025-06-17 18:06:16,839 - INFO - Looking for Collect tier3 tower...\n",
      "2025-06-17 18:06:18,318 - INFO - Clicked Collect tier3 tower.\n",
      "2025-06-17 18:06:19,821 - INFO - Looking for Back to collection event...\n"
     ]
    },
    {
     "name": "stdout",
     "output_type": "stream",
     "text": [
      "Max val is  0.35871422290802\n",
      "Max val is  0.35871422290802\n",
      "Max val is  0.35871422290802\n",
      "Max val is  0.35871422290802\n",
      "Max val is  0.3315412998199463\n",
      "Max val is  0.3315412998199463\n"
     ]
    },
    {
     "ename": "KeyboardInterrupt",
     "evalue": "",
     "output_type": "error",
     "traceback": [
      "\u001b[31m---------------------------------------------------------------------------\u001b[39m",
      "\u001b[31mKeyboardInterrupt\u001b[39m                         Traceback (most recent call last)",
      "\u001b[36mCell\u001b[39m\u001b[36m \u001b[39m\u001b[32mIn[4]\u001b[39m\u001b[32m, line 18\u001b[39m\n\u001b[32m     16\u001b[39m     time.sleep(\u001b[32m0.5\u001b[39m)\n\u001b[32m     17\u001b[39m     pyautogui.click(\u001b[32m1000\u001b[39m, \u001b[32m1000\u001b[39m)\n\u001b[32m---> \u001b[39m\u001b[32m18\u001b[39m \u001b[43mbot\u001b[49m\u001b[43m.\u001b[49m\u001b[43mwait_and_click\u001b[49m\u001b[43m(\u001b[49m\u001b[33;43m'\u001b[39;49m\u001b[33;43mimages/collection_event/continue.png\u001b[39;49m\u001b[33;43m'\u001b[39;49m\u001b[43m,\u001b[49m\u001b[43m \u001b[49m\u001b[33;43m'\u001b[39;49m\u001b[33;43mBack to collection event\u001b[39;49m\u001b[33;43m'\u001b[39;49m\u001b[43m)\u001b[49m\n\u001b[32m     19\u001b[39m \u001b[38;5;28;01mif\u001b[39;00m bot.find_image_on_screen(\u001b[33m'\u001b[39m\u001b[33mimages/collection_event/collection_event.png\u001b[39m\u001b[33m'\u001b[39m)[\u001b[32m0\u001b[39m] \u001b[38;5;129;01mis\u001b[39;00m \u001b[38;5;129;01mnot\u001b[39;00m \u001b[38;5;28;01mNone\u001b[39;00m \u001b[38;5;129;01mand\u001b[39;00m bot.find_image_on_screen(\u001b[33m'\u001b[39m\u001b[33mimages/collection_event/collect.png\u001b[39m\u001b[33m'\u001b[39m)[\u001b[32m0\u001b[39m] \u001b[38;5;129;01mis\u001b[39;00m \u001b[38;5;28;01mNone\u001b[39;00m:\n\u001b[32m     20\u001b[39m     pyautogui.click(\u001b[32m84\u001b[39m,\u001b[32m67\u001b[39m)\n",
      "\u001b[36mFile \u001b[39m\u001b[32mc:\\Users\\juraj\\Desktop\\Juraj\\Programmation\\Python\\BTD6 Automation Collection event\\main.py:112\u001b[39m, in \u001b[36mBTD6Bot.wait_and_click\u001b[39m\u001b[34m(self, image_path, description, confidence)\u001b[39m\n\u001b[32m    110\u001b[39m logging.info(\u001b[33mf\u001b[39m\u001b[33m\"\u001b[39m\u001b[33mLooking for \u001b[39m\u001b[38;5;132;01m{\u001b[39;00mdescription\u001b[38;5;132;01m}\u001b[39;00m\u001b[33m...\u001b[39m\u001b[33m\"\u001b[39m)\n\u001b[32m    111\u001b[39m \u001b[38;5;28;01mwhile\u001b[39;00m \u001b[38;5;28mself\u001b[39m.running:\n\u001b[32m--> \u001b[39m\u001b[32m112\u001b[39m     \u001b[38;5;28;01mif\u001b[39;00m \u001b[38;5;28;43mself\u001b[39;49m\u001b[43m.\u001b[49m\u001b[43mclick_image\u001b[49m\u001b[43m(\u001b[49m\u001b[43mimage_path\u001b[49m\u001b[43m,\u001b[49m\u001b[43m \u001b[49m\u001b[43mconfidence\u001b[49m\u001b[43m)\u001b[49m:\n\u001b[32m    113\u001b[39m         logging.info(\u001b[33mf\u001b[39m\u001b[33m\"\u001b[39m\u001b[33mClicked \u001b[39m\u001b[38;5;132;01m{\u001b[39;00mdescription\u001b[38;5;132;01m}\u001b[39;00m\u001b[33m.\u001b[39m\u001b[33m\"\u001b[39m)\n\u001b[32m    114\u001b[39m         \u001b[38;5;66;03m# time.sleep(1)\u001b[39;00m\n",
      "\u001b[36mFile \u001b[39m\u001b[32mc:\\Users\\juraj\\Desktop\\Juraj\\Programmation\\Python\\BTD6 Automation Collection event\\main.py:103\u001b[39m, in \u001b[36mBTD6Bot.click_image\u001b[39m\u001b[34m(self, image_path, confidence)\u001b[39m\n\u001b[32m    101\u001b[39m \u001b[38;5;28;01mdef\u001b[39;00m\u001b[38;5;250m \u001b[39m\u001b[34mclick_image\u001b[39m(\u001b[38;5;28mself\u001b[39m, image_path, confidence=CONFIDENCE_THRESHOLD):\n\u001b[32m    102\u001b[39m \u001b[38;5;250m    \u001b[39m\u001b[33;03m\"\"\"Click on an image if found on screen\"\"\"\u001b[39;00m\n\u001b[32m--> \u001b[39m\u001b[32m103\u001b[39m     location, max_val = \u001b[38;5;28;43mself\u001b[39;49m\u001b[43m.\u001b[49m\u001b[43mfind_image_on_screen\u001b[49m\u001b[43m(\u001b[49m\u001b[43mimage_path\u001b[49m\u001b[43m,\u001b[49m\u001b[43m \u001b[49m\u001b[43mconfidence\u001b[49m\u001b[43m)\u001b[49m\n\u001b[32m    104\u001b[39m     \u001b[38;5;28;01mif\u001b[39;00m location:\n\u001b[32m    105\u001b[39m         pyautogui.click(location)\n",
      "\u001b[36mFile \u001b[39m\u001b[32mc:\\Users\\juraj\\Desktop\\Juraj\\Programmation\\Python\\BTD6 Automation Collection event\\main.py:89\u001b[39m, in \u001b[36mBTD6Bot.find_image_on_screen\u001b[39m\u001b[34m(self, image_path, confidence)\u001b[39m\n\u001b[32m     87\u001b[39m     \u001b[38;5;28;01mreturn\u001b[39;00m \u001b[38;5;28;01mNone\u001b[39;00m, \u001b[38;5;28;01mNone\u001b[39;00m\n\u001b[32m     88\u001b[39m th, tw = template.shape[:\u001b[32m2\u001b[39m]\n\u001b[32m---> \u001b[39m\u001b[32m89\u001b[39m result = \u001b[43mcv2\u001b[49m\u001b[43m.\u001b[49m\u001b[43mmatchTemplate\u001b[49m\u001b[43m(\u001b[49m\u001b[43mscreen_np\u001b[49m\u001b[43m,\u001b[49m\u001b[43m \u001b[49m\u001b[43mtemplate\u001b[49m\u001b[43m,\u001b[49m\u001b[43m \u001b[49m\u001b[43mcv2\u001b[49m\u001b[43m.\u001b[49m\u001b[43mTM_CCOEFF_NORMED\u001b[49m\u001b[43m)\u001b[49m\n\u001b[32m     90\u001b[39m min_val, max_val, min_loc, max_loc = cv2.minMaxLoc(result)\n\u001b[32m     91\u001b[39m \u001b[38;5;28;01mif\u001b[39;00m max_val >= confidence:\n",
      "\u001b[31mKeyboardInterrupt\u001b[39m: "
     ]
    }
   ],
   "source": [
    "from gameplay import Gameplay\n",
    "from main import BTD6Bot\n",
    "import time\n",
    "import pyautogui\n",
    "\n",
    "time.sleep(2)\n",
    "\n",
    "bot = BTD6Bot()\n",
    "bot.launch_game()\n",
    "if bot.find_image_on_screen('images/collection_event/collection_event.png')[0] is not None or True :\n",
    "    print(\"Collection Event found\")\n",
    "    # bot.wait_and_click('images/collection_event/collect.png', 'Click Collection Event')\n",
    "    for i in range(2) :\n",
    "        for tier in [\"common\", \"tier3\"] : \n",
    "            bot.wait_and_click(f'images/collection_event/{tier}.png', f'Collect {tier} tower')\n",
    "            break\n",
    "        time.sleep(0.5)\n",
    "        pyautogui.click(1000, 1000)\n",
    "    bot.wait_and_click('images/collection_event/continue.png', 'Back to collection event')\n",
    "    if bot.find_image_on_screen('images/collection_event/collection_event.png')[0] is not None and bot.find_image_on_screen('images/collection_event/collect.png')[0] is None:\n",
    "        pyautogui.click(84,67)\n",
    "    bot.wait_and_click('images/collection_event/back.png', 'Back to home')\n",
    "\n",
    "\n",
    "\n",
    "\n"
   ]
  },
  {
   "cell_type": "code",
   "execution_count": 2,
   "metadata": {},
   "outputs": [
    {
     "name": "stderr",
     "output_type": "stream",
     "text": [
      "2025-06-17 18:02:06,502 - INFO - BTD6 is already running\n",
      "2025-06-17 18:02:06,506 - INFO - Focused BTD6 window.\n",
      "2025-06-17 18:02:06,812 - INFO - Looking for Click Collection Event...\n"
     ]
    },
    {
     "name": "stdout",
     "output_type": "stream",
     "text": [
      "Collection Event found\n"
     ]
    },
    {
     "name": "stderr",
     "output_type": "stream",
     "text": [
      "2025-06-17 18:02:08,293 - INFO - Clicked Click Collection Event.\n",
      "2025-06-17 18:02:08,294 - INFO - Looking for Collect tower...\n",
      "2025-06-17 18:02:09,604 - INFO - Clicked Collect tower.\n",
      "2025-06-17 18:02:11,108 - INFO - Looking for Collect tower...\n",
      "2025-06-17 18:02:12,479 - INFO - Clicked Collect tower.\n",
      "2025-06-17 18:02:13,983 - INFO - Looking for Back to collection event...\n"
     ]
    },
    {
     "name": "stdout",
     "output_type": "stream",
     "text": [
      "Max val is  0.29041093587875366\n",
      "Max val is  0.2904106080532074\n",
      "Max val is  0.2904108464717865\n",
      "Max val is  0.29041072726249695\n",
      "Max val is  0.2904108464717865\n",
      "Max val is  0.29041093587875366\n",
      "Max val is  0.2904108464717865\n",
      "Max val is  0.2904108464717865\n",
      "Max val is  0.2904108464717865\n",
      "Max val is  0.2904108464717865\n",
      "Max val is  0.4299536347389221\n",
      "Max val is  0.3315412998199463\n",
      "Max val is  0.3315412998199463\n",
      "Max val is  0.3315422534942627\n",
      "Max val is  0.3315412998199463\n",
      "Max val is  0.3315412998199463\n",
      "Max val is  0.3315412998199463\n",
      "Max val is  0.44154372811317444\n",
      "Max val is  0.4445164203643799\n",
      "Max val is  0.4445164203643799\n",
      "Max val is  0.44451528787612915\n"
     ]
    },
    {
     "ename": "KeyboardInterrupt",
     "evalue": "",
     "output_type": "error",
     "traceback": [
      "\u001b[31m---------------------------------------------------------------------------\u001b[39m",
      "\u001b[31mKeyboardInterrupt\u001b[39m                         Traceback (most recent call last)",
      "\u001b[36mCell\u001b[39m\u001b[36m \u001b[39m\u001b[32mIn[2]\u001b[39m\u001b[32m, line 10\u001b[39m\n\u001b[32m      8\u001b[39m bot = BTD6Bot()\n\u001b[32m      9\u001b[39m bot.launch_game()\n\u001b[32m---> \u001b[39m\u001b[32m10\u001b[39m \u001b[43mbot\u001b[49m\u001b[43m.\u001b[49m\u001b[43mcollection_event\u001b[49m\u001b[43m(\u001b[49m\u001b[43m)\u001b[49m\n",
      "\u001b[36mFile \u001b[39m\u001b[32mc:\\Users\\juraj\\Desktop\\Juraj\\Programmation\\Python\\BTD6 Automation Collection event\\main.py:127\u001b[39m, in \u001b[36mBTD6Bot.collection_event\u001b[39m\u001b[34m(self)\u001b[39m\n\u001b[32m    125\u001b[39m     time.sleep(\u001b[32m0.5\u001b[39m)\n\u001b[32m    126\u001b[39m     pyautogui.click(\u001b[32m1000\u001b[39m, \u001b[32m1000\u001b[39m)\n\u001b[32m--> \u001b[39m\u001b[32m127\u001b[39m \u001b[38;5;28;43mself\u001b[39;49m\u001b[43m.\u001b[49m\u001b[43mwait_and_click\u001b[49m\u001b[43m(\u001b[49m\u001b[33;43m'\u001b[39;49m\u001b[33;43mimages/collection_event/continue.png\u001b[39;49m\u001b[33;43m'\u001b[39;49m\u001b[43m,\u001b[49m\u001b[43m \u001b[49m\u001b[33;43m'\u001b[39;49m\u001b[33;43mBack to collection event\u001b[39;49m\u001b[33;43m'\u001b[39;49m\u001b[43m)\u001b[49m\n\u001b[32m    128\u001b[39m \u001b[38;5;28;01mif\u001b[39;00m \u001b[38;5;28mself\u001b[39m.find_image_on_screen(\u001b[33m'\u001b[39m\u001b[33mimages/collection_event/collection_event.png\u001b[39m\u001b[33m'\u001b[39m)[\u001b[32m0\u001b[39m] \u001b[38;5;129;01mis\u001b[39;00m \u001b[38;5;129;01mnot\u001b[39;00m \u001b[38;5;28;01mNone\u001b[39;00m \u001b[38;5;129;01mand\u001b[39;00m \u001b[38;5;28mself\u001b[39m.find_image_on_screen(\u001b[33m'\u001b[39m\u001b[33mimages/collection_event/collect.png\u001b[39m\u001b[33m'\u001b[39m)[\u001b[32m0\u001b[39m] \u001b[38;5;129;01mis\u001b[39;00m \u001b[38;5;28;01mNone\u001b[39;00m:\n\u001b[32m    129\u001b[39m     pyautogui.click(\u001b[32m84\u001b[39m,\u001b[32m67\u001b[39m)\n",
      "\u001b[36mFile \u001b[39m\u001b[32mc:\\Users\\juraj\\Desktop\\Juraj\\Programmation\\Python\\BTD6 Automation Collection event\\main.py:112\u001b[39m, in \u001b[36mBTD6Bot.wait_and_click\u001b[39m\u001b[34m(self, image_path, description, confidence)\u001b[39m\n\u001b[32m    110\u001b[39m logging.info(\u001b[33mf\u001b[39m\u001b[33m\"\u001b[39m\u001b[33mLooking for \u001b[39m\u001b[38;5;132;01m{\u001b[39;00mdescription\u001b[38;5;132;01m}\u001b[39;00m\u001b[33m...\u001b[39m\u001b[33m\"\u001b[39m)\n\u001b[32m    111\u001b[39m \u001b[38;5;28;01mwhile\u001b[39;00m \u001b[38;5;28mself\u001b[39m.running:\n\u001b[32m--> \u001b[39m\u001b[32m112\u001b[39m     \u001b[38;5;28;01mif\u001b[39;00m \u001b[38;5;28;43mself\u001b[39;49m\u001b[43m.\u001b[49m\u001b[43mclick_image\u001b[49m\u001b[43m(\u001b[49m\u001b[43mimage_path\u001b[49m\u001b[43m,\u001b[49m\u001b[43m \u001b[49m\u001b[43mconfidence\u001b[49m\u001b[43m)\u001b[49m:\n\u001b[32m    113\u001b[39m         logging.info(\u001b[33mf\u001b[39m\u001b[33m\"\u001b[39m\u001b[33mClicked \u001b[39m\u001b[38;5;132;01m{\u001b[39;00mdescription\u001b[38;5;132;01m}\u001b[39;00m\u001b[33m.\u001b[39m\u001b[33m\"\u001b[39m)\n\u001b[32m    114\u001b[39m         \u001b[38;5;66;03m# time.sleep(1)\u001b[39;00m\n",
      "\u001b[36mFile \u001b[39m\u001b[32mc:\\Users\\juraj\\Desktop\\Juraj\\Programmation\\Python\\BTD6 Automation Collection event\\main.py:103\u001b[39m, in \u001b[36mBTD6Bot.click_image\u001b[39m\u001b[34m(self, image_path, confidence)\u001b[39m\n\u001b[32m    101\u001b[39m \u001b[38;5;28;01mdef\u001b[39;00m\u001b[38;5;250m \u001b[39m\u001b[34mclick_image\u001b[39m(\u001b[38;5;28mself\u001b[39m, image_path, confidence=CONFIDENCE_THRESHOLD):\n\u001b[32m    102\u001b[39m \u001b[38;5;250m    \u001b[39m\u001b[33;03m\"\"\"Click on an image if found on screen\"\"\"\u001b[39;00m\n\u001b[32m--> \u001b[39m\u001b[32m103\u001b[39m     location, max_val = \u001b[38;5;28;43mself\u001b[39;49m\u001b[43m.\u001b[49m\u001b[43mfind_image_on_screen\u001b[49m\u001b[43m(\u001b[49m\u001b[43mimage_path\u001b[49m\u001b[43m,\u001b[49m\u001b[43m \u001b[49m\u001b[43mconfidence\u001b[49m\u001b[43m)\u001b[49m\n\u001b[32m    104\u001b[39m     \u001b[38;5;28;01mif\u001b[39;00m location:\n\u001b[32m    105\u001b[39m         pyautogui.click(location)\n",
      "\u001b[36mFile \u001b[39m\u001b[32mc:\\Users\\juraj\\Desktop\\Juraj\\Programmation\\Python\\BTD6 Automation Collection event\\main.py:89\u001b[39m, in \u001b[36mBTD6Bot.find_image_on_screen\u001b[39m\u001b[34m(self, image_path, confidence)\u001b[39m\n\u001b[32m     87\u001b[39m     \u001b[38;5;28;01mreturn\u001b[39;00m \u001b[38;5;28;01mNone\u001b[39;00m, \u001b[38;5;28;01mNone\u001b[39;00m\n\u001b[32m     88\u001b[39m th, tw = template.shape[:\u001b[32m2\u001b[39m]\n\u001b[32m---> \u001b[39m\u001b[32m89\u001b[39m result = \u001b[43mcv2\u001b[49m\u001b[43m.\u001b[49m\u001b[43mmatchTemplate\u001b[49m\u001b[43m(\u001b[49m\u001b[43mscreen_np\u001b[49m\u001b[43m,\u001b[49m\u001b[43m \u001b[49m\u001b[43mtemplate\u001b[49m\u001b[43m,\u001b[49m\u001b[43m \u001b[49m\u001b[43mcv2\u001b[49m\u001b[43m.\u001b[49m\u001b[43mTM_CCOEFF_NORMED\u001b[49m\u001b[43m)\u001b[49m\n\u001b[32m     90\u001b[39m min_val, max_val, min_loc, max_loc = cv2.minMaxLoc(result)\n\u001b[32m     91\u001b[39m \u001b[38;5;28;01mif\u001b[39;00m max_val >= confidence:\n",
      "\u001b[31mKeyboardInterrupt\u001b[39m: "
     ]
    }
   ],
   "source": [
    "from gameplay import Gameplay\n",
    "from main import BTD6Bot\n",
    "import time\n",
    "import pyautogui\n",
    "\n",
    "time.sleep(2)\n",
    "\n",
    "bot = BTD6Bot()\n",
    "bot.launch_game()\n",
    "bot.collection_event()\n"
   ]
  }
 ],
 "metadata": {
  "kernelspec": {
   "display_name": "btd6_bot",
   "language": "python",
   "name": "python3"
  },
  "language_info": {
   "codemirror_mode": {
    "name": "ipython",
    "version": 3
   },
   "file_extension": ".py",
   "mimetype": "text/x-python",
   "name": "python",
   "nbconvert_exporter": "python",
   "pygments_lexer": "ipython3",
   "version": "3.13.5"
  }
 },
 "nbformat": 4,
 "nbformat_minor": 2
}
